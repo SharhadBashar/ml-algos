{
 "cells": [
  {
   "cell_type": "code",
   "execution_count": 49,
   "id": "7b22a32b",
   "metadata": {},
   "outputs": [],
   "source": [
    "import tensorflow as tf\n",
    "from tensorflow import keras\n",
    "from tensorflow.keras import Sequential, Model, regularizers\n",
    "from tensorflow.keras.layers import Conv2D, Dense, Input, Flatten, MaxPooling2D, BatchNormalization, Dropout\n",
    "\n",
    "from tensorflow.keras.datasets import cifar10"
   ]
  },
  {
   "cell_type": "code",
   "execution_count": 16,
   "id": "cf338463",
   "metadata": {},
   "outputs": [],
   "source": [
    "(x_train, y_train), (x_test, y_test) = cifar10.load_data()"
   ]
  },
  {
   "cell_type": "code",
   "execution_count": 14,
   "id": "2a20db9a",
   "metadata": {},
   "outputs": [
    {
     "name": "stdout",
     "output_type": "stream",
     "text": [
      "(50000, 32, 32, 3)\n",
      "(50000, 1)\n"
     ]
    }
   ],
   "source": [
    "print(x_train.shape)\n",
    "print(y_train.shape)"
   ]
  },
  {
   "cell_type": "code",
   "execution_count": 17,
   "id": "64460932",
   "metadata": {},
   "outputs": [],
   "source": [
    "x_train = keras.utils.normalize(x_train, axis = 1)\n",
    "x_test = keras.utils.normalize(x_test, axis = 1)"
   ]
  },
  {
   "cell_type": "code",
   "execution_count": 38,
   "id": "deb124d7",
   "metadata": {},
   "outputs": [
    {
     "name": "stdout",
     "output_type": "stream",
     "text": [
      "Epoch 1/15\n",
      "782/782 [==============================] - 6s 7ms/step - loss: 2.0345 - accuracy: 0.2574\n",
      "Epoch 2/15\n",
      "782/782 [==============================] - 6s 7ms/step - loss: 1.8556 - accuracy: 0.3360\n",
      "Epoch 3/15\n",
      "782/782 [==============================] - 5s 7ms/step - loss: 1.7634 - accuracy: 0.3718\n",
      "Epoch 4/15\n",
      "782/782 [==============================] - 5s 7ms/step - loss: 1.6992 - accuracy: 0.3957\n",
      "Epoch 5/15\n",
      "782/782 [==============================] - 6s 8ms/step - loss: 1.6466 - accuracy: 0.4165\n",
      "Epoch 6/15\n",
      "782/782 [==============================] - 6s 8ms/step - loss: 1.6067 - accuracy: 0.4308\n",
      "Epoch 7/15\n",
      "782/782 [==============================] - 6s 7ms/step - loss: 1.5670 - accuracy: 0.4429\n",
      "Epoch 8/15\n",
      "782/782 [==============================] - 5s 7ms/step - loss: 1.5337 - accuracy: 0.4555\n",
      "Epoch 9/15\n",
      "782/782 [==============================] - 6s 7ms/step - loss: 1.4995 - accuracy: 0.4651\n",
      "Epoch 10/15\n",
      "782/782 [==============================] - 6s 7ms/step - loss: 1.4693 - accuracy: 0.4787\n",
      "Epoch 11/15\n",
      "782/782 [==============================] - 5s 7ms/step - loss: 1.4394 - accuracy: 0.4868\n",
      "Epoch 12/15\n",
      "782/782 [==============================] - 6s 7ms/step - loss: 1.4150 - accuracy: 0.4973\n",
      "Epoch 13/15\n",
      "782/782 [==============================] - 5s 7ms/step - loss: 1.3886 - accuracy: 0.5061\n",
      "Epoch 14/15\n",
      "782/782 [==============================] - 6s 7ms/step - loss: 1.3643 - accuracy: 0.5146\n",
      "Epoch 15/15\n",
      "782/782 [==============================] - 5s 7ms/step - loss: 1.3413 - accuracy: 0.5233\n"
     ]
    },
    {
     "data": {
      "text/plain": [
       "<keras.callbacks.History at 0x15342f2b0>"
      ]
     },
     "execution_count": 38,
     "metadata": {},
     "output_type": "execute_result"
    }
   ],
   "source": [
    "model = keras.Sequential()\n",
    "model.add(Input(shape = (32, 32, 3)))\n",
    "model.add(Flatten())\n",
    "model.add(Dense(512, activation = 'relu'))\n",
    "model.add(Dense(256, activation = 'relu'))\n",
    "model.add(Dense(128, activation = 'relu'))\n",
    "model.add(Dense(10, activation = 'softmax'))\n",
    "\n",
    "model.compile(\n",
    "    loss = keras.losses.SparseCategoricalCrossentropy(),\n",
    "    optimizer = keras.optimizers.Adam(learning_rate = 3e-4),\n",
    "    metrics = ['accuracy']\n",
    ")\n",
    "\n",
    "model.fit(x_train, y_train, batch_size = 64, epochs = 15, validation_split = 0.1)"
   ]
  },
  {
   "cell_type": "code",
   "execution_count": 39,
   "id": "2d80b868",
   "metadata": {},
   "outputs": [
    {
     "name": "stdout",
     "output_type": "stream",
     "text": [
      "157/157 [==============================] - 0s 2ms/step - loss: 1320.1533 - accuracy: 0.3682\n"
     ]
    },
    {
     "data": {
      "text/plain": [
       "[1320.1533203125, 0.36820000410079956]"
      ]
     },
     "execution_count": 39,
     "metadata": {},
     "output_type": "execute_result"
    }
   ],
   "source": [
    "model.evaluate(x_text, y_test, batch_size = 64)"
   ]
  },
  {
   "cell_type": "code",
   "execution_count": 32,
   "id": "7218af01",
   "metadata": {},
   "outputs": [
    {
     "name": "stdout",
     "output_type": "stream",
     "text": [
      "Epoch 1/15\n",
      "782/782 [==============================] - 12s 14ms/step - loss: 1.8553 - accuracy: 0.3272\n",
      "Epoch 2/15\n",
      "782/782 [==============================] - 12s 16ms/step - loss: 1.5176 - accuracy: 0.4570\n",
      "Epoch 3/15\n",
      "782/782 [==============================] - 12s 15ms/step - loss: 1.3888 - accuracy: 0.5050\n",
      "Epoch 4/15\n",
      "782/782 [==============================] - 12s 15ms/step - loss: 1.2854 - accuracy: 0.5450\n",
      "Epoch 5/15\n",
      "782/782 [==============================] - 12s 16ms/step - loss: 1.2003 - accuracy: 0.5762\n",
      "Epoch 6/15\n",
      "782/782 [==============================] - 12s 16ms/step - loss: 1.1295 - accuracy: 0.6046\n",
      "Epoch 7/15\n",
      "782/782 [==============================] - 12s 15ms/step - loss: 1.0681 - accuracy: 0.6251\n",
      "Epoch 8/15\n",
      "782/782 [==============================] - 12s 15ms/step - loss: 1.0091 - accuracy: 0.6482\n",
      "Epoch 9/15\n",
      "782/782 [==============================] - 13s 16ms/step - loss: 0.9643 - accuracy: 0.6639\n",
      "Epoch 10/15\n",
      "782/782 [==============================] - 13s 16ms/step - loss: 0.9157 - accuracy: 0.6800\n",
      "Epoch 11/15\n",
      "782/782 [==============================] - 12s 15ms/step - loss: 0.8777 - accuracy: 0.6955\n",
      "Epoch 12/15\n",
      "782/782 [==============================] - 12s 15ms/step - loss: 0.8413 - accuracy: 0.7076\n",
      "Epoch 13/15\n",
      "782/782 [==============================] - 12s 16ms/step - loss: 0.8046 - accuracy: 0.7197\n",
      "Epoch 14/15\n",
      "782/782 [==============================] - 12s 16ms/step - loss: 0.7706 - accuracy: 0.7313\n",
      "Epoch 15/15\n",
      "782/782 [==============================] - 12s 16ms/step - loss: 0.7438 - accuracy: 0.7415\n"
     ]
    },
    {
     "data": {
      "text/plain": [
       "<keras.callbacks.History at 0x15669fa30>"
      ]
     },
     "execution_count": 32,
     "metadata": {},
     "output_type": "execute_result"
    }
   ],
   "source": [
    "# Sigmoid is used for binary classification,\n",
    "# while SoftMax applies to multiclass problems \n",
    "\n",
    "model = keras.Sequential(\n",
    "    [\n",
    "        Input(shape = (32, 32, 3)),\n",
    "        Conv2D(32, 3, activation = 'relu'),\n",
    "        MaxPooling2D(pool_size = (2, 2)),\n",
    "        Conv2D(64, 3, activation = 'relu'),\n",
    "        MaxPooling2D(pool_size = (2, 2)),\n",
    "        Conv2D(128, 3, activation = 'relu'),\n",
    "        Flatten(),\n",
    "        Dense(128, activation = 'relu'),\n",
    "        Dense(64, activation = 'relu'),\n",
    "        Dense(10, activation = 'softmax')\n",
    "    ]\n",
    ")\n",
    "\n",
    "model.compile(\n",
    "    loss = keras.losses.SparseCategoricalCrossentropy(),\n",
    "    optimizer = keras.optimizers.Adam(learning_rate = 3e-4),\n",
    "    metrics = ['accuracy']\n",
    ")\n",
    "\n",
    "model.fit(x_train, y_train, batch_size = 64, epochs = 15)"
   ]
  },
  {
   "cell_type": "code",
   "execution_count": 34,
   "id": "1da018c8",
   "metadata": {},
   "outputs": [
    {
     "name": "stdout",
     "output_type": "stream",
     "text": [
      "157/157 [==============================] - 1s 6ms/step - loss: 773.5122 - accuracy: 0.4648\n"
     ]
    },
    {
     "data": {
      "text/plain": [
       "[773.51220703125, 0.46480000019073486]"
      ]
     },
     "execution_count": 34,
     "metadata": {},
     "output_type": "execute_result"
    }
   ],
   "source": [
    "model.evaluate(x_text, y_test, batch_size = 64)"
   ]
  },
  {
   "cell_type": "code",
   "execution_count": 42,
   "id": "c682fd88",
   "metadata": {},
   "outputs": [
    {
     "name": "stdout",
     "output_type": "stream",
     "text": [
      "Epoch 1/15\n",
      "782/782 [==============================] - 9s 11ms/step - loss: 1.6961 - accuracy: 0.3946\n",
      "Epoch 2/15\n",
      "782/782 [==============================] - 9s 11ms/step - loss: 1.3329 - accuracy: 0.5350\n",
      "Epoch 3/15\n",
      "782/782 [==============================] - 10s 13ms/step - loss: 1.1879 - accuracy: 0.5872\n",
      "Epoch 4/15\n",
      "782/782 [==============================] - 10s 12ms/step - loss: 1.0938 - accuracy: 0.6230\n",
      "Epoch 5/15\n",
      "782/782 [==============================] - 10s 13ms/step - loss: 1.0275 - accuracy: 0.6468\n",
      "Epoch 6/15\n",
      "782/782 [==============================] - 10s 13ms/step - loss: 0.9804 - accuracy: 0.6620\n",
      "Epoch 7/15\n",
      "782/782 [==============================] - 10s 13ms/step - loss: 0.9238 - accuracy: 0.6813\n",
      "Epoch 8/15\n",
      "782/782 [==============================] - 11s 14ms/step - loss: 0.8891 - accuracy: 0.6926\n",
      "Epoch 9/15\n",
      "782/782 [==============================] - 11s 13ms/step - loss: 0.8475 - accuracy: 0.7100\n",
      "Epoch 10/15\n",
      "782/782 [==============================] - 10s 13ms/step - loss: 0.8112 - accuracy: 0.7205\n",
      "Epoch 11/15\n",
      "782/782 [==============================] - 10s 13ms/step - loss: 0.7775 - accuracy: 0.7335\n",
      "Epoch 12/15\n",
      "782/782 [==============================] - 10s 13ms/step - loss: 0.7467 - accuracy: 0.7466\n",
      "Epoch 13/15\n",
      "782/782 [==============================] - 10s 12ms/step - loss: 0.7167 - accuracy: 0.7541\n",
      "Epoch 14/15\n",
      "782/782 [==============================] - 9s 12ms/step - loss: 0.6863 - accuracy: 0.7663\n",
      "Epoch 15/15\n",
      "782/782 [==============================] - 10s 13ms/step - loss: 0.6627 - accuracy: 0.7735\n"
     ]
    },
    {
     "data": {
      "text/plain": [
       "<keras.callbacks.History at 0x2bce66470>"
      ]
     },
     "execution_count": 42,
     "metadata": {},
     "output_type": "execute_result"
    }
   ],
   "source": [
    "model = keras.Sequential()\n",
    "model.add(Input(shape = (32, 32, 3)))\n",
    "model.add(Conv2D(32, 3, activation = 'relu'))\n",
    "model.add(MaxPooling2D(pool_size = (2, 2)))\n",
    "model.add(Conv2D(64, 3, activation = 'relu'))\n",
    "model.add(MaxPooling2D(pool_size = (2, 2)))\n",
    "# model.add(Conv2D(128, 3, activation = 'relu'))\n",
    "model.add(Flatten())\n",
    "# model.add(Dense(128, activation = 'relu'))\n",
    "model.add(Dense(64, activation = 'relu'))\n",
    "model.add(Dense(10, activation = 'softmax'))\n",
    "\n",
    "model.compile(\n",
    "    loss = keras.losses.SparseCategoricalCrossentropy(),\n",
    "    optimizer = keras.optimizers.Adam(),\n",
    "    metrics = ['accuracy']\n",
    ")\n",
    "\n",
    "model.fit(x_train, y_train, batch_size = 64, epochs = 15)"
   ]
  },
  {
   "cell_type": "code",
   "execution_count": 43,
   "id": "c52a343f",
   "metadata": {},
   "outputs": [
    {
     "name": "stdout",
     "output_type": "stream",
     "text": [
      "157/157 [==============================] - 1s 5ms/step - loss: 752.0458 - accuracy: 0.5225\n"
     ]
    },
    {
     "data": {
      "text/plain": [
       "[752.0458374023438, 0.5224999785423279]"
      ]
     },
     "execution_count": 43,
     "metadata": {},
     "output_type": "execute_result"
    }
   ],
   "source": [
    "model.evaluate(x_text, y_test, batch_size = 64)"
   ]
  },
  {
   "cell_type": "code",
   "execution_count": 46,
   "id": "f195366a",
   "metadata": {},
   "outputs": [
    {
     "name": "stdout",
     "output_type": "stream",
     "text": [
      "Epoch 1/15\n",
      "782/782 [==============================] - 19s 23ms/step - loss: 1.3240 - accuracy: 0.5268\n",
      "Epoch 2/15\n",
      "782/782 [==============================] - 18s 23ms/step - loss: 0.9446 - accuracy: 0.6682\n",
      "Epoch 3/15\n",
      "782/782 [==============================] - 17s 22ms/step - loss: 0.7881 - accuracy: 0.7243\n",
      "Epoch 4/15\n",
      "782/782 [==============================] - 18s 23ms/step - loss: 0.6852 - accuracy: 0.7605\n",
      "Epoch 5/15\n",
      "782/782 [==============================] - 18s 23ms/step - loss: 0.5980 - accuracy: 0.7929\n",
      "Epoch 6/15\n",
      "782/782 [==============================] - 18s 23ms/step - loss: 0.5287 - accuracy: 0.8144\n",
      "Epoch 7/15\n",
      "782/782 [==============================] - 20s 26ms/step - loss: 0.4627 - accuracy: 0.8384\n",
      "Epoch 8/15\n",
      "782/782 [==============================] - 18s 22ms/step - loss: 0.4077 - accuracy: 0.8575\n",
      "Epoch 9/15\n",
      "782/782 [==============================] - 18s 23ms/step - loss: 0.3567 - accuracy: 0.8747\n",
      "Epoch 10/15\n",
      "782/782 [==============================] - 17s 22ms/step - loss: 0.3150 - accuracy: 0.8894\n",
      "Epoch 11/15\n",
      "782/782 [==============================] - 17s 22ms/step - loss: 0.2775 - accuracy: 0.9021\n",
      "Epoch 12/15\n",
      "782/782 [==============================] - 17s 22ms/step - loss: 0.2466 - accuracy: 0.9135\n",
      "Epoch 13/15\n",
      "782/782 [==============================] - 17s 22ms/step - loss: 0.2208 - accuracy: 0.9220\n",
      "Epoch 14/15\n",
      "782/782 [==============================] - 17s 22ms/step - loss: 0.1905 - accuracy: 0.9333\n",
      "Epoch 15/15\n",
      "782/782 [==============================] - 17s 22ms/step - loss: 0.1800 - accuracy: 0.9365\n"
     ]
    },
    {
     "data": {
      "text/plain": [
       "<keras.callbacks.History at 0x1570c1030>"
      ]
     },
     "execution_count": 46,
     "metadata": {},
     "output_type": "execute_result"
    }
   ],
   "source": [
    "#functional model\n",
    "\n",
    "inputs = Input(shape = (32, 32, 3))\n",
    "x = Conv2D(32, 3)(inputs)\n",
    "x = BatchNormalization()(x)\n",
    "x = keras.activations.relu(x)\n",
    "x = MaxPooling2D(pool_size = (2, 2))(x)\n",
    "\n",
    "x = Conv2D(64, 3)(x)\n",
    "x = BatchNormalization()(x)\n",
    "x = keras.activations.relu(x)\n",
    "x = MaxPooling2D(pool_size = (2, 2))(x)\n",
    "\n",
    "x = Conv2D(128, 3)(x)\n",
    "x = BatchNormalization()(x)\n",
    "x = keras.activations.relu(x)\n",
    "x = MaxPooling2D(pool_size = (2, 2))(x)\n",
    "\n",
    "x = Flatten()(x)\n",
    "x = Dense(512, activation = 'relu')(x)\n",
    "x = Dense(256, activation = 'relu')(x)\n",
    "x = Dense(128, activation = 'relu')(x)\n",
    "output = Dense(10, activation = 'softmax')(x)\n",
    "\n",
    "model = Model(inputs = inputs, outputs = output)\n",
    "\n",
    "model.compile(\n",
    "    loss = keras.losses.SparseCategoricalCrossentropy(),\n",
    "    optimizer = keras.optimizers.Adam(),\n",
    "    metrics = ['accuracy']\n",
    ")\n",
    "\n",
    "model.fit(x_train, y_train, batch_size = 64, epochs = 15)"
   ]
  },
  {
   "cell_type": "code",
   "execution_count": 47,
   "id": "d69eccbe",
   "metadata": {},
   "outputs": [
    {
     "name": "stdout",
     "output_type": "stream",
     "text": [
      "157/157 [==============================] - 1s 8ms/step - loss: 2811.0061 - accuracy: 0.1671\n"
     ]
    },
    {
     "data": {
      "text/plain": [
       "[2811.006103515625, 0.1670999974012375]"
      ]
     },
     "execution_count": 47,
     "metadata": {},
     "output_type": "execute_result"
    }
   ],
   "source": [
    "model.evaluate(x_text, y_test, batch_size = 64)"
   ]
  },
  {
   "cell_type": "code",
   "execution_count": 52,
   "id": "189dd658",
   "metadata": {},
   "outputs": [
    {
     "name": "stdout",
     "output_type": "stream",
     "text": [
      "Epoch 1/15\n",
      "782/782 [==============================] - 15s 18ms/step - loss: 2.4163 - accuracy: 0.4699\n",
      "Epoch 2/15\n",
      "782/782 [==============================] - 14s 18ms/step - loss: 1.5144 - accuracy: 0.5806\n",
      "Epoch 3/15\n",
      "782/782 [==============================] - 14s 18ms/step - loss: 1.4115 - accuracy: 0.6115\n",
      "Epoch 4/15\n",
      "782/782 [==============================] - 14s 18ms/step - loss: 1.3631 - accuracy: 0.6320\n",
      "Epoch 5/15\n",
      "782/782 [==============================] - 14s 18ms/step - loss: 1.3388 - accuracy: 0.6434\n",
      "Epoch 6/15\n",
      "782/782 [==============================] - 14s 18ms/step - loss: 1.3091 - accuracy: 0.6546\n",
      "Epoch 7/15\n",
      "782/782 [==============================] - 14s 18ms/step - loss: 1.3030 - accuracy: 0.6610\n",
      "Epoch 8/15\n",
      "782/782 [==============================] - 14s 18ms/step - loss: 1.2675 - accuracy: 0.6725\n",
      "Epoch 9/15\n",
      "782/782 [==============================] - 14s 18ms/step - loss: 1.2601 - accuracy: 0.6728\n",
      "Epoch 10/15\n",
      "782/782 [==============================] - 14s 18ms/step - loss: 1.2493 - accuracy: 0.6801\n",
      "Epoch 11/15\n",
      "782/782 [==============================] - 14s 18ms/step - loss: 1.2333 - accuracy: 0.6879\n",
      "Epoch 12/15\n",
      "782/782 [==============================] - 14s 18ms/step - loss: 1.2199 - accuracy: 0.6895\n",
      "Epoch 13/15\n",
      "782/782 [==============================] - 14s 18ms/step - loss: 1.2104 - accuracy: 0.6925\n",
      "Epoch 14/15\n",
      "782/782 [==============================] - 14s 18ms/step - loss: 1.2009 - accuracy: 0.6958\n",
      "Epoch 15/15\n",
      "782/782 [==============================] - 14s 18ms/step - loss: 1.1940 - accuracy: 0.7000\n"
     ]
    },
    {
     "data": {
      "text/plain": [
       "<keras.callbacks.History at 0x2ccb7d9f0>"
      ]
     },
     "execution_count": 52,
     "metadata": {},
     "output_type": "execute_result"
    }
   ],
   "source": [
    "inputs = Input(shape = (32, 32, 3))\n",
    "x = Conv2D(32, 3, kernel_regularizer = regularizers.l2(0.01))(inputs)\n",
    "x = BatchNormalization()(x)\n",
    "x = keras.activations.relu(x)\n",
    "x = MaxPooling2D(pool_size = (2, 2))(x)\n",
    "\n",
    "x = Conv2D(64, 3, kernel_regularizer = regularizers.l2(0.01))(x)\n",
    "x = BatchNormalization()(x)\n",
    "x = keras.activations.relu(x)\n",
    "x = MaxPooling2D(pool_size = (2, 2))(x)\n",
    "\n",
    "x = Conv2D(128, 3, kernel_regularizer = regularizers.l2(0.01))(x)\n",
    "x = BatchNormalization()(x)\n",
    "x = keras.activations.relu(x)\n",
    "x = MaxPooling2D(pool_size = (2, 2))(x)\n",
    "\n",
    "x = Flatten()(x)\n",
    "# x = Dense(512, activation = 'relu')(x)\n",
    "# x = Dense(256, activation = 'relu')(x)\n",
    "x = Dense(64, activation = 'relu', kernel_regularizer = regularizers.l2(0.01))(x)\n",
    "x = Dropout(0.3)(x)\n",
    "output = Dense(10, activation = 'softmax')(x)\n",
    "\n",
    "model = Model(inputs = inputs, outputs = output)\n",
    "\n",
    "model.compile(\n",
    "    loss = keras.losses.SparseCategoricalCrossentropy(),\n",
    "    optimizer = keras.optimizers.Adam(),\n",
    "    metrics = ['accuracy']\n",
    ")\n",
    "\n",
    "model.fit(x_train, y_train, batch_size = 64, epochs = 15)"
   ]
  },
  {
   "cell_type": "code",
   "execution_count": 51,
   "id": "57e9dc7a",
   "metadata": {},
   "outputs": [
    {
     "name": "stdout",
     "output_type": "stream",
     "text": [
      "157/157 [==============================] - 1s 7ms/step - loss: 874.3127 - accuracy: 0.2702\n"
     ]
    },
    {
     "data": {
      "text/plain": [
       "[874.3126831054688, 0.2702000141143799]"
      ]
     },
     "execution_count": 51,
     "metadata": {},
     "output_type": "execute_result"
    }
   ],
   "source": [
    "model.evaluate(x_text, y_test, batch_size = 64)"
   ]
  },
  {
   "cell_type": "code",
   "execution_count": null,
   "id": "1831dd72",
   "metadata": {},
   "outputs": [],
   "source": []
  }
 ],
 "metadata": {
  "kernelspec": {
   "display_name": "Python 3 (ipykernel)",
   "language": "python",
   "name": "python3"
  },
  "language_info": {
   "codemirror_mode": {
    "name": "ipython",
    "version": 3
   },
   "file_extension": ".py",
   "mimetype": "text/x-python",
   "name": "python",
   "nbconvert_exporter": "python",
   "pygments_lexer": "ipython3",
   "version": "3.11.6"
  }
 },
 "nbformat": 4,
 "nbformat_minor": 5
}
