{
 "cells": [
  {
   "cell_type": "code",
   "execution_count": 1,
   "id": "025a6e1b",
   "metadata": {},
   "outputs": [],
   "source": [
    "import tensorflow as tf\n",
    "from tensorflow import keras\n",
    "from tensorflow.keras import Sequential, Model, regularizers\n",
    "from tensorflow.keras.layers import Conv2D, Dense, Input, Flatten, MaxPooling2D, BatchNormalization, Dropout\n",
    "\n",
    "from tensorflow.keras.datasets import cifar10"
   ]
  },
  {
   "cell_type": "code",
   "execution_count": 36,
   "id": "826d2026",
   "metadata": {},
   "outputs": [
    {
     "name": "stdout",
     "output_type": "stream",
     "text": [
      "(50000, 32, 32, 3)\n",
      "(50000, 1)\n"
     ]
    }
   ],
   "source": [
    "(x_train, y_train), (x_test, y_test) = cifar10.load_data()\n",
    "\n",
    "print(x_train.shape)\n",
    "print(y_train.shape)\n",
    "\n",
    "x_train = keras.utils.normalize(x_train, axis = 1)\n",
    "x_test = keras.utils.normalize(x_test, axis = 1)"
   ]
  },
  {
   "cell_type": "code",
   "execution_count": 24,
   "id": "89024491",
   "metadata": {},
   "outputs": [
    {
     "name": "stdout",
     "output_type": "stream",
     "text": [
      "Downloading data from https://storage.googleapis.com/tensorflow/keras-applications/vgg16/vgg16_weights_tf_dim_ordering_tf_kernels_notop.h5\n",
      "58889256/58889256 [==============================] - 2s 0us/step\n"
     ]
    }
   ],
   "source": [
    "vgg_16 = keras.applications.vgg16.VGG16(\n",
    "    weights = 'imagenet',\n",
    "    include_top = False, \n",
    "    classes = 10,\n",
    "    input_shape = (32, 32, 3)\n",
    ")"
   ]
  },
  {
   "cell_type": "code",
   "execution_count": 25,
   "id": "19b85b5e",
   "metadata": {},
   "outputs": [
    {
     "name": "stdout",
     "output_type": "stream",
     "text": [
      "Model: \"vgg16\"\n",
      "_________________________________________________________________\n",
      " Layer (type)                Output Shape              Param #   \n",
      "=================================================================\n",
      " input_2 (InputLayer)        [(None, 32, 32, 3)]       0         \n",
      "                                                                 \n",
      " block1_conv1 (Conv2D)       (None, 32, 32, 64)        1792      \n",
      "                                                                 \n",
      " block1_conv2 (Conv2D)       (None, 32, 32, 64)        36928     \n",
      "                                                                 \n",
      " block1_pool (MaxPooling2D)  (None, 16, 16, 64)        0         \n",
      "                                                                 \n",
      " block2_conv1 (Conv2D)       (None, 16, 16, 128)       73856     \n",
      "                                                                 \n",
      " block2_conv2 (Conv2D)       (None, 16, 16, 128)       147584    \n",
      "                                                                 \n",
      " block2_pool (MaxPooling2D)  (None, 8, 8, 128)         0         \n",
      "                                                                 \n",
      " block3_conv1 (Conv2D)       (None, 8, 8, 256)         295168    \n",
      "                                                                 \n",
      " block3_conv2 (Conv2D)       (None, 8, 8, 256)         590080    \n",
      "                                                                 \n",
      " block3_conv3 (Conv2D)       (None, 8, 8, 256)         590080    \n",
      "                                                                 \n",
      " block3_pool (MaxPooling2D)  (None, 4, 4, 256)         0         \n",
      "                                                                 \n",
      " block4_conv1 (Conv2D)       (None, 4, 4, 512)         1180160   \n",
      "                                                                 \n",
      " block4_conv2 (Conv2D)       (None, 4, 4, 512)         2359808   \n",
      "                                                                 \n",
      " block4_conv3 (Conv2D)       (None, 4, 4, 512)         2359808   \n",
      "                                                                 \n",
      " block4_pool (MaxPooling2D)  (None, 2, 2, 512)         0         \n",
      "                                                                 \n",
      " block5_conv1 (Conv2D)       (None, 2, 2, 512)         2359808   \n",
      "                                                                 \n",
      " block5_conv2 (Conv2D)       (None, 2, 2, 512)         2359808   \n",
      "                                                                 \n",
      " block5_conv3 (Conv2D)       (None, 2, 2, 512)         2359808   \n",
      "                                                                 \n",
      " block5_pool (MaxPooling2D)  (None, 1, 1, 512)         0         \n",
      "                                                                 \n",
      "=================================================================\n",
      "Total params: 14,714,688\n",
      "Trainable params: 14,714,688\n",
      "Non-trainable params: 0\n",
      "_________________________________________________________________\n"
     ]
    }
   ],
   "source": [
    "vgg_16.summary()"
   ]
  },
  {
   "cell_type": "markdown",
   "id": "e58598b9",
   "metadata": {},
   "source": [
    "### Sequential"
   ]
  },
  {
   "cell_type": "code",
   "execution_count": 38,
   "id": "5c47dd85",
   "metadata": {},
   "outputs": [],
   "source": [
    "model = Sequential()\n",
    "for layer in vgg_16.layers[:-1]:\n",
    "    model.add(layer)\n",
    "    \n",
    "for layer in model.layers:\n",
    "    layer.trainable = False\n",
    "\n",
    "model.add(Flatten())\n",
    "model.add(Dense(512, activation = 'relu', name = 'hidden1'))\n",
    "model.add(Dropout(0.4))\n",
    "model.add(Dense(256, activation = 'relu', name = 'hidden2'))\n",
    "model.add(Dropout(0.4))\n",
    "model.add(Dense(10, activation = 'softmax', name = 'predictions'))"
   ]
  },
  {
   "cell_type": "code",
   "execution_count": 39,
   "id": "e1c86a89",
   "metadata": {},
   "outputs": [
    {
     "name": "stdout",
     "output_type": "stream",
     "text": [
      "Model: \"sequential_9\"\n",
      "_________________________________________________________________\n",
      " Layer (type)                Output Shape              Param #   \n",
      "=================================================================\n",
      " block1_conv1 (Conv2D)       (None, 32, 32, 64)        1792      \n",
      "                                                                 \n",
      " block1_conv2 (Conv2D)       (None, 32, 32, 64)        36928     \n",
      "                                                                 \n",
      " block1_pool (MaxPooling2D)  (None, 16, 16, 64)        0         \n",
      "                                                                 \n",
      " block2_conv1 (Conv2D)       (None, 16, 16, 128)       73856     \n",
      "                                                                 \n",
      " block2_conv2 (Conv2D)       (None, 16, 16, 128)       147584    \n",
      "                                                                 \n",
      " block2_pool (MaxPooling2D)  (None, 8, 8, 128)         0         \n",
      "                                                                 \n",
      " block3_conv1 (Conv2D)       (None, 8, 8, 256)         295168    \n",
      "                                                                 \n",
      " block3_conv2 (Conv2D)       (None, 8, 8, 256)         590080    \n",
      "                                                                 \n",
      " block3_conv3 (Conv2D)       (None, 8, 8, 256)         590080    \n",
      "                                                                 \n",
      " block3_pool (MaxPooling2D)  (None, 4, 4, 256)         0         \n",
      "                                                                 \n",
      " block4_conv1 (Conv2D)       (None, 4, 4, 512)         1180160   \n",
      "                                                                 \n",
      " block4_conv2 (Conv2D)       (None, 4, 4, 512)         2359808   \n",
      "                                                                 \n",
      " block4_conv3 (Conv2D)       (None, 4, 4, 512)         2359808   \n",
      "                                                                 \n",
      " block4_pool (MaxPooling2D)  (None, 2, 2, 512)         0         \n",
      "                                                                 \n",
      " block5_conv1 (Conv2D)       (None, 2, 2, 512)         2359808   \n",
      "                                                                 \n",
      " block5_conv2 (Conv2D)       (None, 2, 2, 512)         2359808   \n",
      "                                                                 \n",
      " block5_conv3 (Conv2D)       (None, 2, 2, 512)         2359808   \n",
      "                                                                 \n",
      " flatten_1 (Flatten)         (None, 2048)              0         \n",
      "                                                                 \n",
      " hidden1 (Dense)             (None, 512)               1049088   \n",
      "                                                                 \n",
      " dropout (Dropout)           (None, 512)               0         \n",
      "                                                                 \n",
      " hidden2 (Dense)             (None, 256)               131328    \n",
      "                                                                 \n",
      " dropout_1 (Dropout)         (None, 256)               0         \n",
      "                                                                 \n",
      " predictions (Dense)         (None, 10)                2570      \n",
      "                                                                 \n",
      "=================================================================\n",
      "Total params: 15,897,674\n",
      "Trainable params: 1,182,986\n",
      "Non-trainable params: 14,714,688\n",
      "_________________________________________________________________\n"
     ]
    }
   ],
   "source": [
    "model.summary()"
   ]
  },
  {
   "cell_type": "code",
   "execution_count": 40,
   "id": "7489ea79",
   "metadata": {
    "scrolled": false
   },
   "outputs": [
    {
     "name": "stdout",
     "output_type": "stream",
     "text": [
      "Epoch 1/15\n",
      "704/704 [==============================] - 81s 114ms/step - loss: 2.0060 - accuracy: 0.2742 - val_loss: 1.7226 - val_accuracy: 0.4128\n",
      "Epoch 2/15\n",
      "704/704 [==============================] - 81s 114ms/step - loss: 1.7489 - accuracy: 0.3779 - val_loss: 1.6144 - val_accuracy: 0.4294\n",
      "Epoch 3/15\n",
      "704/704 [==============================] - 83s 117ms/step - loss: 1.6548 - accuracy: 0.4140 - val_loss: 1.5330 - val_accuracy: 0.4666\n",
      "Epoch 4/15\n",
      "704/704 [==============================] - 85s 120ms/step - loss: 1.5963 - accuracy: 0.4394 - val_loss: 1.5007 - val_accuracy: 0.4710\n",
      "Epoch 5/15\n",
      "704/704 [==============================] - 82s 116ms/step - loss: 1.5572 - accuracy: 0.4484 - val_loss: 1.4575 - val_accuracy: 0.4884\n",
      "Epoch 6/15\n",
      "704/704 [==============================] - 81s 116ms/step - loss: 1.5255 - accuracy: 0.4635 - val_loss: 1.4464 - val_accuracy: 0.4922\n",
      "Epoch 7/15\n",
      "704/704 [==============================] - 83s 117ms/step - loss: 1.4962 - accuracy: 0.4730 - val_loss: 1.4189 - val_accuracy: 0.5004\n",
      "Epoch 8/15\n",
      "704/704 [==============================] - 88s 125ms/step - loss: 1.4754 - accuracy: 0.4816 - val_loss: 1.4083 - val_accuracy: 0.5014\n",
      "Epoch 9/15\n",
      "704/704 [==============================] - 90s 128ms/step - loss: 1.4572 - accuracy: 0.4860 - val_loss: 1.3961 - val_accuracy: 0.5044\n",
      "Epoch 10/15\n",
      "704/704 [==============================] - 88s 126ms/step - loss: 1.4332 - accuracy: 0.4957 - val_loss: 1.3725 - val_accuracy: 0.5204\n",
      "Epoch 11/15\n",
      "704/704 [==============================] - 87s 123ms/step - loss: 1.4168 - accuracy: 0.5040 - val_loss: 1.3669 - val_accuracy: 0.5184\n",
      "Epoch 12/15\n",
      "704/704 [==============================] - 86s 122ms/step - loss: 1.4066 - accuracy: 0.5068 - val_loss: 1.3548 - val_accuracy: 0.5254\n",
      "Epoch 13/15\n",
      "704/704 [==============================] - 86s 122ms/step - loss: 1.3896 - accuracy: 0.5120 - val_loss: 1.3514 - val_accuracy: 0.5262\n",
      "Epoch 14/15\n",
      "704/704 [==============================] - 86s 122ms/step - loss: 1.3771 - accuracy: 0.5162 - val_loss: 1.3359 - val_accuracy: 0.5358\n",
      "Epoch 15/15\n",
      "704/704 [==============================] - 87s 123ms/step - loss: 1.3642 - accuracy: 0.5211 - val_loss: 1.3362 - val_accuracy: 0.5384\n"
     ]
    },
    {
     "data": {
      "text/plain": [
       "<keras.callbacks.History at 0x2bcbe7f10>"
      ]
     },
     "execution_count": 40,
     "metadata": {},
     "output_type": "execute_result"
    }
   ],
   "source": [
    "model.compile(\n",
    "    loss = keras.losses.SparseCategoricalCrossentropy(),\n",
    "    optimizer = keras.optimizers.Adam(learning_rate = 1e-4), # keras.optimizers.SGD(lr = 0.001, momentum =  0.9)\n",
    "    metrics = ['accuracy']\n",
    ")\n",
    "\n",
    "model.fit(x_train, y_train, validation_split = 0.1, shuffle = True, batch_size = 64, epochs = 15)"
   ]
  },
  {
   "cell_type": "code",
   "execution_count": 41,
   "id": "1d28830d",
   "metadata": {},
   "outputs": [
    {
     "name": "stdout",
     "output_type": "stream",
     "text": [
      "157/157 [==============================] - 17s 106ms/step - loss: 1.3618 - accuracy: 0.5202\n"
     ]
    },
    {
     "data": {
      "text/plain": [
       "[1.3618457317352295, 0.5202000141143799]"
      ]
     },
     "execution_count": 41,
     "metadata": {},
     "output_type": "execute_result"
    }
   ],
   "source": [
    "model.evaluate(x_test, y_test, batch_size = 64)"
   ]
  },
  {
   "cell_type": "markdown",
   "id": "11f94b50",
   "metadata": {},
   "source": [
    "### Functional"
   ]
  },
  {
   "cell_type": "code",
   "execution_count": 59,
   "id": "81075eab",
   "metadata": {},
   "outputs": [],
   "source": [
    "vgg_16 = keras.applications.vgg16.VGG16(\n",
    "    weights = 'imagenet',\n",
    "    include_top = False,\n",
    "    classes = 10,\n",
    "    input_shape = (32, 32, 3)\n",
    ")"
   ]
  },
  {
   "cell_type": "code",
   "execution_count": 60,
   "id": "b3e78def",
   "metadata": {},
   "outputs": [],
   "source": [
    "x = vgg_16.layers[-1].output\n",
    "x = Flatten()(x)\n",
    "x = Dense(512, activation = 'relu')(x)\n",
    "x = Dropout(0.4)(x)\n",
    "x = Dense(256, activation = 'relu')(x)\n",
    "x = Dropout(0.4)(x)\n",
    "output = Dense(10, activation = 'softmax')(x)\n",
    "\n",
    "model = Model(inputs = vgg_16.input, outputs = output)"
   ]
  },
  {
   "cell_type": "code",
   "execution_count": 61,
   "id": "5b4bdafa",
   "metadata": {},
   "outputs": [
    {
     "name": "stdout",
     "output_type": "stream",
     "text": [
      "Epoch 1/15\n",
      "704/704 [==============================] - 367s 519ms/step - loss: 1.6002 - accuracy: 0.4260 - val_loss: 1.0373 - val_accuracy: 0.6468\n",
      "Epoch 2/15\n",
      "704/704 [==============================] - 373s 529ms/step - loss: 0.9923 - accuracy: 0.6646 - val_loss: 0.8029 - val_accuracy: 0.7246\n",
      "Epoch 3/15\n",
      "704/704 [==============================] - 372s 529ms/step - loss: 0.7930 - accuracy: 0.7365 - val_loss: 0.7185 - val_accuracy: 0.7558\n",
      "Epoch 4/15\n",
      "704/704 [==============================] - 373s 530ms/step - loss: 0.6610 - accuracy: 0.7810 - val_loss: 0.6731 - val_accuracy: 0.7690\n",
      "Epoch 5/15\n",
      "704/704 [==============================] - 364s 517ms/step - loss: 0.5637 - accuracy: 0.8142 - val_loss: 0.5813 - val_accuracy: 0.7988\n",
      "Epoch 6/15\n",
      "704/704 [==============================] - 373s 530ms/step - loss: 0.4962 - accuracy: 0.8352 - val_loss: 0.5598 - val_accuracy: 0.8166\n",
      "Epoch 7/15\n",
      "704/704 [==============================] - 381s 541ms/step - loss: 0.4361 - accuracy: 0.8570 - val_loss: 0.5789 - val_accuracy: 0.8102\n",
      "Epoch 8/15\n",
      "704/704 [==============================] - 383s 544ms/step - loss: 0.3718 - accuracy: 0.8791 - val_loss: 0.5434 - val_accuracy: 0.8204\n",
      "Epoch 9/15\n",
      "704/704 [==============================] - 382s 543ms/step - loss: 0.3221 - accuracy: 0.8945 - val_loss: 0.5777 - val_accuracy: 0.8168\n",
      "Epoch 10/15\n",
      "704/704 [==============================] - 377s 536ms/step - loss: 0.2669 - accuracy: 0.9132 - val_loss: 0.5815 - val_accuracy: 0.8274\n",
      "Epoch 11/15\n",
      "704/704 [==============================] - 375s 532ms/step - loss: 0.2189 - accuracy: 0.9285 - val_loss: 0.5792 - val_accuracy: 0.8304\n",
      "Epoch 12/15\n",
      "704/704 [==============================] - 375s 533ms/step - loss: 0.1864 - accuracy: 0.9398 - val_loss: 0.6122 - val_accuracy: 0.8320\n",
      "Epoch 13/15\n",
      "704/704 [==============================] - 375s 533ms/step - loss: 0.1463 - accuracy: 0.9532 - val_loss: 0.6377 - val_accuracy: 0.8288\n",
      "Epoch 14/15\n",
      "704/704 [==============================] - 378s 537ms/step - loss: 0.1297 - accuracy: 0.9589 - val_loss: 0.6340 - val_accuracy: 0.8356\n",
      "Epoch 15/15\n",
      "704/704 [==============================] - 376s 534ms/step - loss: 0.1057 - accuracy: 0.9664 - val_loss: 0.6775 - val_accuracy: 0.8348\n"
     ]
    },
    {
     "data": {
      "text/plain": [
       "<keras.callbacks.History at 0x2bc7bcf70>"
      ]
     },
     "execution_count": 61,
     "metadata": {},
     "output_type": "execute_result"
    }
   ],
   "source": [
    "model.compile(\n",
    "    loss = keras.losses.SparseCategoricalCrossentropy(),\n",
    "    optimizer = keras.optimizers.SGD(learning_rate = 0.001, momentum =  0.9),\n",
    "    metrics = ['accuracy']\n",
    ")\n",
    "\n",
    "model.fit(x_train, y_train, validation_split = 0.1, shuffle = True, batch_size = 64, epochs = 15)"
   ]
  },
  {
   "cell_type": "code",
   "execution_count": 62,
   "id": "61689e7f",
   "metadata": {},
   "outputs": [
    {
     "name": "stdout",
     "output_type": "stream",
     "text": [
      "157/157 [==============================] - 18s 112ms/step - loss: 0.7174 - accuracy: 0.8316\n"
     ]
    },
    {
     "data": {
      "text/plain": [
       "[0.7173755764961243, 0.83160001039505]"
      ]
     },
     "execution_count": 62,
     "metadata": {},
     "output_type": "execute_result"
    }
   ],
   "source": [
    "model.evaluate(x_test, y_test, batch_size = 64)"
   ]
  },
  {
   "cell_type": "code",
   "execution_count": null,
   "id": "950b247d",
   "metadata": {},
   "outputs": [],
   "source": []
  }
 ],
 "metadata": {
  "kernelspec": {
   "display_name": "Python 3 (ipykernel)",
   "language": "python",
   "name": "python3"
  },
  "language_info": {
   "codemirror_mode": {
    "name": "ipython",
    "version": 3
   },
   "file_extension": ".py",
   "mimetype": "text/x-python",
   "name": "python",
   "nbconvert_exporter": "python",
   "pygments_lexer": "ipython3",
   "version": "3.11.6"
  }
 },
 "nbformat": 4,
 "nbformat_minor": 5
}
