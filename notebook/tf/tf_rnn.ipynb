{
 "cells": [
  {
   "cell_type": "code",
   "execution_count": 1,
   "id": "e3fa51f9",
   "metadata": {},
   "outputs": [],
   "source": [
    "import tensorflow as tf\n",
    "from tensorflow import keras\n",
    "from tensorflow.keras import layers\n",
    "from tensorflow.keras.datasets import mnist"
   ]
  },
  {
   "cell_type": "code",
   "execution_count": 2,
   "id": "3b22a65b",
   "metadata": {},
   "outputs": [
    {
     "name": "stdout",
     "output_type": "stream",
     "text": [
      "(60000, 28, 28) (60000,)\n"
     ]
    }
   ],
   "source": [
    "(x_train, y_train), (x_test, y_test) = mnist.load_data()\n",
    "print(x_train.shape, y_train.shape)\n",
    "x_train = keras.utils.normalize(x_train, axis = 1)\n",
    "x_test = keras.utils.normalize(x_test, axis = 1)"
   ]
  },
  {
   "cell_type": "code",
   "execution_count": 11,
   "id": "6291d32a",
   "metadata": {},
   "outputs": [
    {
     "name": "stdout",
     "output_type": "stream",
     "text": [
      "Epoch 1/5\n",
      "1688/1688 [==============================] - 86s 50ms/step - loss: 0.6584 - accuracy: 0.7931 - val_loss: 0.7182 - val_accuracy: 0.7523\n",
      "Epoch 2/5\n",
      "1688/1688 [==============================] - 83s 49ms/step - loss: 0.4441 - accuracy: 0.8679 - val_loss: 0.2636 - val_accuracy: 0.9257\n",
      "Epoch 3/5\n",
      "1688/1688 [==============================] - 84s 50ms/step - loss: 0.4153 - accuracy: 0.8741 - val_loss: 0.4020 - val_accuracy: 0.8867\n",
      "Epoch 4/5\n",
      "1688/1688 [==============================] - 94s 56ms/step - loss: 0.3961 - accuracy: 0.8802 - val_loss: 0.3827 - val_accuracy: 0.8850\n",
      "Epoch 5/5\n",
      "1688/1688 [==============================] - 111s 66ms/step - loss: 0.3642 - accuracy: 0.8896 - val_loss: 0.2970 - val_accuracy: 0.9127\n",
      "313/313 [==============================] - 6s 19ms/step - loss: 0.3163 - accuracy: 0.9095\n"
     ]
    },
    {
     "data": {
      "text/plain": [
       "[0.31628093123435974, 0.909500002861023]"
      ]
     },
     "execution_count": 11,
     "metadata": {},
     "output_type": "execute_result"
    }
   ],
   "source": [
    "# RNN\n",
    "model = keras.Sequential()\n",
    "model.add(layers.Input(shape = (None, 28)))\n",
    "model.add(layers.SimpleRNN(512, return_sequences = True, activation = 'tanh'))\n",
    "model.add(layers.SimpleRNN(256, activation = 'tanh'))\n",
    "model.add(layers.Flatten())\n",
    "model.add(layers.Dense(10, activation = 'softmax'))\n",
    "\n",
    "model.compile(\n",
    "    loss = keras.losses.SparseCategoricalCrossentropy(),\n",
    "    optimizer = keras.optimizers.Adam(learning_rate = 0.001),\n",
    "    metrics = ['accuracy']\n",
    ")\n",
    "\n",
    "model.fit(x_train, y_train, batch_size = 32, validation_split = 0.1, epochs = 5)\n",
    "model.evaluate(x_test, y_test)"
   ]
  },
  {
   "cell_type": "code",
   "execution_count": 12,
   "id": "bcd0b442",
   "metadata": {},
   "outputs": [
    {
     "name": "stdout",
     "output_type": "stream",
     "text": [
      "Epoch 1/5\n",
      "1688/1688 [==============================] - 220s 129ms/step - loss: 0.2982 - accuracy: 0.9013 - val_loss: 0.0635 - val_accuracy: 0.9818\n",
      "Epoch 2/5\n",
      "1688/1688 [==============================] - 217s 129ms/step - loss: 0.0759 - accuracy: 0.9765 - val_loss: 0.0642 - val_accuracy: 0.9805\n",
      "Epoch 3/5\n",
      "1688/1688 [==============================] - 215s 128ms/step - loss: 0.0534 - accuracy: 0.9835 - val_loss: 0.0440 - val_accuracy: 0.9863\n",
      "Epoch 4/5\n",
      "1688/1688 [==============================] - 216s 128ms/step - loss: 0.0441 - accuracy: 0.9861 - val_loss: 0.0547 - val_accuracy: 0.9848\n",
      "Epoch 5/5\n",
      "1688/1688 [==============================] - 216s 128ms/step - loss: 0.0365 - accuracy: 0.9885 - val_loss: 0.0385 - val_accuracy: 0.9878\n",
      "313/313 [==============================] - 15s 48ms/step - loss: 0.0385 - accuracy: 0.9879\n"
     ]
    },
    {
     "data": {
      "text/plain": [
       "[0.03847566619515419, 0.9879000186920166]"
      ]
     },
     "execution_count": 12,
     "metadata": {},
     "output_type": "execute_result"
    }
   ],
   "source": [
    "# GRU\n",
    "model = keras.Sequential()\n",
    "model.add(layers.Input(shape = (None, 28)))\n",
    "model.add(layers.GRU(512, return_sequences = True, activation = 'tanh'))\n",
    "model.add(layers.GRU(256, activation = 'tanh'))\n",
    "model.add(layers.Flatten())\n",
    "model.add(layers.Dense(10, activation = 'softmax'))\n",
    "\n",
    "model.compile(\n",
    "    loss = keras.losses.SparseCategoricalCrossentropy(),\n",
    "    optimizer = keras.optimizers.Adam(learning_rate = 0.001),\n",
    "    metrics = ['accuracy']\n",
    ")\n",
    "\n",
    "model.fit(x_train, y_train, batch_size = 32, validation_split = 0.1, epochs = 5)\n",
    "model.evaluate(x_test, y_test)"
   ]
  },
  {
   "cell_type": "code",
   "execution_count": 13,
   "id": "2a61725b",
   "metadata": {},
   "outputs": [
    {
     "name": "stdout",
     "output_type": "stream",
     "text": [
      "Epoch 1/5\n",
      "1688/1688 [==============================] - 199s 116ms/step - loss: 0.3316 - accuracy: 0.8925 - val_loss: 0.0771 - val_accuracy: 0.9768\n",
      "Epoch 2/5\n",
      "1688/1688 [==============================] - 197s 117ms/step - loss: 0.0970 - accuracy: 0.9704 - val_loss: 0.0667 - val_accuracy: 0.9782\n",
      "Epoch 3/5\n",
      "1688/1688 [==============================] - 197s 117ms/step - loss: 0.0665 - accuracy: 0.9793 - val_loss: 0.0478 - val_accuracy: 0.9852\n",
      "Epoch 4/5\n",
      "1688/1688 [==============================] - 196s 116ms/step - loss: 0.0512 - accuracy: 0.9843 - val_loss: 0.0442 - val_accuracy: 0.9873\n",
      "Epoch 5/5\n",
      "1688/1688 [==============================] - 196s 116ms/step - loss: 0.0414 - accuracy: 0.9874 - val_loss: 0.0416 - val_accuracy: 0.9890\n",
      "313/313 [==============================] - 15s 46ms/step - loss: 0.0465 - accuracy: 0.9868\n"
     ]
    },
    {
     "data": {
      "text/plain": [
       "[0.046452101320028305, 0.9868000149726868]"
      ]
     },
     "execution_count": 13,
     "metadata": {},
     "output_type": "execute_result"
    }
   ],
   "source": [
    "# LSTM\n",
    "model = keras.Sequential()\n",
    "model.add(layers.Input(shape = (None, 28)))\n",
    "model.add(layers.LSTM(512, return_sequences = True, activation = 'tanh'))\n",
    "model.add(layers.LSTM(256, activation = 'tanh'))\n",
    "model.add(layers.Flatten())\n",
    "model.add(layers.Dense(10, activation = 'softmax'))\n",
    "\n",
    "model.compile(\n",
    "    loss = keras.losses.SparseCategoricalCrossentropy(),\n",
    "    optimizer = keras.optimizers.Adam(learning_rate = 0.001),\n",
    "    metrics = ['accuracy']\n",
    ")\n",
    "\n",
    "model.fit(x_train, y_train, batch_size = 32, validation_split = 0.1, epochs = 5)\n",
    "model.evaluate(x_test, y_test)"
   ]
  },
  {
   "cell_type": "code",
   "execution_count": 14,
   "id": "501149cb",
   "metadata": {},
   "outputs": [
    {
     "name": "stdout",
     "output_type": "stream",
     "text": [
      "Epoch 1/5\n",
      "1688/1688 [==============================] - 281s 164ms/step - loss: 0.2927 - accuracy: 0.9025 - val_loss: 0.0869 - val_accuracy: 0.9728\n",
      "Epoch 2/5\n",
      "1688/1688 [==============================] - 282s 167ms/step - loss: 0.0892 - accuracy: 0.9719 - val_loss: 0.0548 - val_accuracy: 0.9828\n",
      "Epoch 3/5\n",
      "1688/1688 [==============================] - 291s 172ms/step - loss: 0.0633 - accuracy: 0.9799 - val_loss: 0.0473 - val_accuracy: 0.9877\n",
      "Epoch 4/5\n",
      "1688/1688 [==============================] - 304s 180ms/step - loss: 0.0485 - accuracy: 0.9845 - val_loss: 0.0425 - val_accuracy: 0.9870\n",
      "Epoch 5/5\n",
      "1688/1688 [==============================] - 309s 183ms/step - loss: 0.0400 - accuracy: 0.9870 - val_loss: 0.0386 - val_accuracy: 0.9890\n",
      "313/313 [==============================] - 20s 64ms/step - loss: 0.0416 - accuracy: 0.9866\n"
     ]
    },
    {
     "data": {
      "text/plain": [
       "[0.041567835956811905, 0.9865999817848206]"
      ]
     },
     "execution_count": 14,
     "metadata": {},
     "output_type": "execute_result"
    }
   ],
   "source": [
    "# bidirectional LSTM\n",
    "model = keras.Sequential()\n",
    "model.add(layers.Input(shape = (None, 28)))\n",
    "model.add(\n",
    "    layers.Bidirectional(layers.LSTM(512, return_sequences = True, activation = 'tanh'))\n",
    ")\n",
    "model.add(\n",
    "    layers.Bidirectional(layers.LSTM(256, activation = 'tanh'))\n",
    ")\n",
    "model.add(layers.Flatten())\n",
    "model.add(layers.Dense(10, activation = 'softmax'))\n",
    "\n",
    "model.compile(\n",
    "    loss = keras.losses.SparseCategoricalCrossentropy(),\n",
    "    optimizer = keras.optimizers.Adam(learning_rate = 0.001),\n",
    "    metrics = ['accuracy']\n",
    ")\n",
    "\n",
    "model.fit(x_train, y_train, batch_size = 32, validation_split = 0.1, epochs = 5)\n",
    "model.evaluate(x_test, y_test)"
   ]
  },
  {
   "cell_type": "code",
   "execution_count": null,
   "id": "38086ec6",
   "metadata": {},
   "outputs": [],
   "source": []
  }
 ],
 "metadata": {
  "kernelspec": {
   "display_name": "Python 3 (ipykernel)",
   "language": "python",
   "name": "python3"
  },
  "language_info": {
   "codemirror_mode": {
    "name": "ipython",
    "version": 3
   },
   "file_extension": ".py",
   "mimetype": "text/x-python",
   "name": "python",
   "nbconvert_exporter": "python",
   "pygments_lexer": "ipython3",
   "version": "3.10.13"
  }
 },
 "nbformat": 4,
 "nbformat_minor": 5
}
