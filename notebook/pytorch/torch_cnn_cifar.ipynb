{
 "cells": [
  {
   "cell_type": "code",
   "execution_count": 2,
   "id": "9ac80018",
   "metadata": {},
   "outputs": [],
   "source": [
    "import torch\n",
    "import torch.nn as nn\n",
    "import torch.nn.functional as F\n",
    "import torchvision\n",
    "import torchvision.transforms as transforms\n",
    "\n",
    "from torch.utils.data import Dataset, DataLoader\n",
    "\n",
    "device = torch.device('cuda:0' if torch.cuda.is_available() else 'cpu')"
   ]
  },
  {
   "cell_type": "markdown",
   "id": "fe146bb8",
   "metadata": {},
   "source": [
    "### 1. Dataloader"
   ]
  },
  {
   "cell_type": "code",
   "execution_count": 4,
   "id": "962bd755",
   "metadata": {},
   "outputs": [
    {
     "name": "stdout",
     "output_type": "stream",
     "text": [
      "Files already downloaded and verified\n",
      "Files already downloaded and verified\n"
     ]
    }
   ],
   "source": [
    "transform = transforms.Compose(\n",
    "    [\n",
    "        transforms.ToTensor(),\n",
    "        transforms.Normalize((0.5, 0.5, 0.5), (0.5, 0.5, 0.5))\n",
    "    ]\n",
    ")\n",
    "\n",
    "train_dataset = torchvision.datasets.CIFAR10(root = '../../data', \n",
    "                                           train = True, \n",
    "                                           transform = transform,\n",
    "                                           download = True\n",
    "                                          )\n",
    "\n",
    "test_dataset = torchvision.datasets.CIFAR10(root = '../../data', \n",
    "                                           train = False, \n",
    "                                           transform = transform,\n",
    "                                           download = True\n",
    "                                          )"
   ]
  },
  {
   "cell_type": "code",
   "execution_count": 5,
   "id": "81df1dd8",
   "metadata": {},
   "outputs": [],
   "source": [
    "train_loader = DataLoader(dataset = train_dataset, batch_size = 32, shuffle = True)\n",
    "test_loader = DataLoader(dataset = test_dataset, batch_size = 32, shuffle = False)"
   ]
  },
  {
   "cell_type": "markdown",
   "id": "07fb2161",
   "metadata": {},
   "source": [
    "### 2. Model"
   ]
  },
  {
   "cell_type": "code",
   "execution_count": 6,
   "id": "16434248",
   "metadata": {},
   "outputs": [],
   "source": [
    "class CNN(nn.Module):\n",
    "    def __init__(self, num_classes = 10):\n",
    "        super(CNN, self).__init__()\n",
    "        self.conv_1 = nn.Conv2d(3, 32, 3)\n",
    "        self.conv_2 = nn.Conv2d(32, 64, 3)\n",
    "        self.conv_3 = nn.Conv2d(64, 64, 3)\n",
    "        self.max_pool = nn.MaxPool2d(2, 2)\n",
    "        self.fc_1 = nn.Linear(64 * 4 * 4, 64)\n",
    "        self.fc_2 = nn.Linear(64, num_classes)\n",
    "        \n",
    "    def forward(self, x):\n",
    "        # input = N, 3, 32, 32\n",
    "        x = self.conv_1(x)\n",
    "        x = F.relu(x)\n",
    "        x = self.max_pool(x)\n",
    "#         print(x.shape)\n",
    "        x = self.conv_2(x)\n",
    "        x = F.relu(x)\n",
    "        x = self.max_pool(x)\n",
    "        \n",
    "        x = self.conv_3(x)\n",
    "        x = F.relu(x)\n",
    "#         x = self.max_pool(x)\n",
    "\n",
    "        x = torch.flatten(x, 1)\n",
    "        x = self.fc_1(x)\n",
    "        x = F.relu(x)\n",
    "        x = self.fc_2(x)\n",
    "        return x"
   ]
  },
  {
   "cell_type": "code",
   "execution_count": 8,
   "id": "05f194c9",
   "metadata": {},
   "outputs": [],
   "source": [
    "model = CNN().to(device)"
   ]
  },
  {
   "cell_type": "markdown",
   "id": "9fc4e240",
   "metadata": {},
   "source": [
    "### 3. Training"
   ]
  },
  {
   "cell_type": "code",
   "execution_count": 10,
   "id": "33ecb32d",
   "metadata": {},
   "outputs": [],
   "source": [
    "criterion = nn.CrossEntropyLoss()\n",
    "optimizer = torch.optim.Adam(model.parameters(), lr = 0.001)"
   ]
  },
  {
   "cell_type": "code",
   "execution_count": 11,
   "id": "4bb81c9c",
   "metadata": {},
   "outputs": [
    {
     "name": "stdout",
     "output_type": "stream",
     "text": [
      "Starting epoch: 0\n",
      "Epoch: 0, loss: 1.4878485550197058\n",
      "Starting epoch: 1\n",
      "Epoch: 1, loss: 1.1175944060754563\n",
      "Starting epoch: 2\n",
      "Epoch: 2, loss: 0.9578785018629549\n",
      "Starting epoch: 3\n",
      "Epoch: 3, loss: 0.8576310885044068\n",
      "Starting epoch: 4\n",
      "Epoch: 4, loss: 0.781754967919238\n",
      "finished training\n"
     ]
    }
   ],
   "source": [
    "n_total_steps = len(train_loader)\n",
    "for epoch in range(5):\n",
    "    print('Starting epoch:', epoch)\n",
    "    running_loss = 0.0\n",
    "    \n",
    "    for i, (images, labels) in enumerate(train_loader):\n",
    "        images = images.to(device)\n",
    "        labels = labels.to(device)\n",
    "        \n",
    "        outputs = model(images)\n",
    "        loss = criterion(outputs, labels)\n",
    "        \n",
    "        loss.backward()\n",
    "        optimizer.step()\n",
    "        optimizer.zero_grad()\n",
    "        \n",
    "        running_loss += loss.item()\n",
    "    print(f'Epoch: {epoch}, loss: {running_loss / n_total_steps}')\n",
    "print('finished training')"
   ]
  },
  {
   "cell_type": "markdown",
   "id": "0be42ccb",
   "metadata": {},
   "source": [
    "### 4. Saving Model"
   ]
  },
  {
   "cell_type": "code",
   "execution_count": null,
   "id": "575b3004",
   "metadata": {},
   "outputs": [],
   "source": [
    "model_save_path = '../../model/cnn_cifar10.pth')\n",
    "torch.save(model.state_dict(), model_save_path) "
   ]
  },
  {
   "cell_type": "code",
   "execution_count": null,
   "id": "0d494018",
   "metadata": {},
   "outputs": [],
   "source": [
    "model = CNN()\n",
    "model.load_state_dict(torch.load(model_save_path))\n",
    "model.to(device)\n",
    "model.eval()"
   ]
  },
  {
   "cell_type": "markdown",
   "id": "4323a9f5",
   "metadata": {},
   "source": [
    "### 5. Evaluate"
   ]
  },
  {
   "cell_type": "code",
   "execution_count": 12,
   "id": "6548671e",
   "metadata": {},
   "outputs": [
    {
     "name": "stdout",
     "output_type": "stream",
     "text": [
      "0.7038\n"
     ]
    }
   ],
   "source": [
    "with torch.no_grad():\n",
    "    correct = 0\n",
    "    samples = len(test_loader.dataset)\n",
    "    \n",
    "    for images, labels in test_loader:\n",
    "        images = images.to(device)\n",
    "        labels = labels.to(device)\n",
    "        \n",
    "        outputs = model(images)\n",
    "        \n",
    "        _, predicted = torch.max(outputs, 1)\n",
    "        correct += (predicted == labels).sum().item()\n",
    "    print(correct/samples)"
   ]
  },
  {
   "cell_type": "code",
   "execution_count": null,
   "id": "3a4f58e8",
   "metadata": {},
   "outputs": [],
   "source": []
  }
 ],
 "metadata": {
  "kernelspec": {
   "display_name": "Python 3 (ipykernel)",
   "language": "python",
   "name": "python3"
  },
  "language_info": {
   "codemirror_mode": {
    "name": "ipython",
    "version": 3
   },
   "file_extension": ".py",
   "mimetype": "text/x-python",
   "name": "python",
   "nbconvert_exporter": "python",
   "pygments_lexer": "ipython3",
   "version": "3.11.6"
  }
 },
 "nbformat": 4,
 "nbformat_minor": 5
}
