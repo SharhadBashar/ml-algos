{
 "cells": [
  {
   "cell_type": "markdown",
   "id": "ea53d057",
   "metadata": {},
   "source": [
    "Question 1"
   ]
  },
  {
   "cell_type": "markdown",
   "id": "a7477283",
   "metadata": {},
   "source": [
    "Given a list of numbers, convert them to a sentence.\n",
    "\n",
    "The list will consist of numbers from [-100, 100], and can be of varing lengths.\n",
    "\n",
    "1. -32 -> empty space\n",
    "2. Numbers from 1 - 26 correspond to letters, such that 1 -> a, 2 -> b, and so on\n",
    "3. -20 -> ','\n",
    "4. -18 -> '.'\n",
    "5. -31 -> '!'\n",
    "\n",
    "Output or print the resulting string"
   ]
  },
  {
   "cell_type": "code",
   "execution_count": 5,
   "id": "fa340d15-cabf-4bbe-ac43-053c3961cac0",
   "metadata": {
    "tags": []
   },
   "outputs": [],
   "source": [
    "#Use a list comprehension to convert the numbers to their corresponding characters based on the mapping and \n",
    "#the ASCII code for letters (where 1 -> a, 2 -> b, etc., corresponds to 1 -> 97 in ASCII, so we'll need to add 96 to the number to get the correct ASCII code for letters)."
   ]
  },
  {
   "cell_type": "code",
   "execution_count": 6,
   "id": "791ab5bf",
   "metadata": {
    "tags": []
   },
   "outputs": [],
   "source": [
    "# Implement this function\n",
    "def num_to_string(numbers):\n",
    "    # Mapping special numbers to characters\n",
    "    special_mappings = {-32: ' ', -20: ',', -18: '.', -31: '!'}\n",
    "    \n",
    "    # Convert numbers to characters using the mappings and ASCII codes for letters\n",
    "    chars = [special_mappings[num] if num in special_mappings else chr(num + 96) for num in numbers]\n",
    "    \n",
    "    # Join the characters into a string and return it\n",
    "    return ''.join(chars)\n",
    "    pass"
   ]
  },
  {
   "cell_type": "code",
   "execution_count": 7,
   "id": "80706af5",
   "metadata": {
    "tags": []
   },
   "outputs": [
    {
     "data": {
      "text/plain": [
       "'hello, saif. welcome to your interview!'"
      ]
     },
     "execution_count": 7,
     "metadata": {},
     "output_type": "execute_result"
    }
   ],
   "source": [
    "numbers = [8, 5, 12, 12, 15, -20, -32, 19, 1, 9, 6, -18, -32, 23, 5, 12, 3, 15, 13, 5, -32, 20, 15, \n",
    "           -32, 25, 15, 21, 18, -32, 9, 14, 20, 5, 18, 22, 9, 5, 23, -31]\n",
    "num_to_string(numbers)"
   ]
  },
  {
   "cell_type": "markdown",
   "id": "95b2cbe2",
   "metadata": {},
   "source": [
    "Question 2"
   ]
  },
  {
   "cell_type": "markdown",
   "id": "6816cc3a",
   "metadata": {},
   "source": [
    "Design a class Fetch_Tweets, which stores tweets and retrieves K closest tweets to the users location.\n",
    "\n",
    "The location of a user is given by `(x, y)`. \n",
    "\n",
    "A tweet has the following attributes: `(id, x, y)`\n",
    "\n",
    "Implement this class with the following functions:\n",
    "1. store_tweet(id, x, y) -> returns null\n",
    "2. fetch_tweet(x, y, k) -> fetches `k` tweets closest to the location `(x, y)`\n",
    "\n",
    "If 2 tweets have the same distance, the lowest x value should be given preference\n",
    "\n",
    "If 2 tweets have the same distance, and the same x value, the lowest y value should be given preference\n",
    "\n",
    "If 2 tweets have the same distance, and the same x and y values, the earlier tweet should be given preference"
   ]
  },
  {
   "cell_type": "code",
   "execution_count": 8,
   "id": "008b6b8c",
   "metadata": {
    "tags": []
   },
   "outputs": [],
   "source": [
    "import math\n",
    "from pprint import pprint"
   ]
  },
  {
   "cell_type": "code",
   "execution_count": 13,
   "id": "4274717b",
   "metadata": {
    "tags": []
   },
   "outputs": [],
   "source": [
    "# Implement this class\n",
    "class Fetch_Tweets():\n",
    "    def __init__(self):\n",
    "        self.tweets = []\n",
    "\n",
    "    def store_tweet(self, id, x, y):\n",
    "        self.tweets.append((id, x, y))\n",
    "\n",
    "    def fetch_tweets(self, user_x, user_y, k):\n",
    "        # Function to calculate distance\n",
    "        def distance(tweet_x, tweet_y):\n",
    "            return math.sqrt((tweet_x - user_x) ** 2 + (tweet_y - user_y) ** 2)\n",
    "\n",
    "        # Sort tweets based on the criteria\n",
    "        sorted_tweets = sorted(self.tweets, key=lambda tweet: (distance(tweet[1], tweet[2]), tweet[1], tweet[2]))\n",
    "        \n",
    "        # Return the top k tweets based on the sorting\n",
    "        return sorted_tweets[:k]\n",
    "    pass"
   ]
  },
  {
   "cell_type": "code",
   "execution_count": 14,
   "id": "0112065f",
   "metadata": {
    "tags": []
   },
   "outputs": [
    {
     "name": "stdout",
     "output_type": "stream",
     "text": [
      "[(1, 1, 10), (1, 1, 11)]\n",
      "[(1, 1, 10), (1, 1, 11), (1, 3, 12)]\n"
     ]
    }
   ],
   "source": [
    "ft = Fetch_Tweets()\n",
    "\n",
    "ft.store_tweet(1, 1, 10) \n",
    "ft.store_tweet(1, 1, 11) \n",
    "ft.store_tweet(1, 3, 12) \n",
    "\n",
    "print(ft.fetch_tweets(1, 2, 2))\n",
    "\n",
    "\n",
    "ft.store_tweet(1, 4, 13)\n",
    "\n",
    "print(ft.fetch_tweets(1, 2, 3))"
   ]
  }
 ],
 "metadata": {
  "kernelspec": {
   "display_name": "Python 3 (ipykernel)",
   "language": "python",
   "name": "python3"
  },
  "language_info": {
   "codemirror_mode": {
    "name": "ipython",
    "version": 3
   },
   "file_extension": ".py",
   "mimetype": "text/x-python",
   "name": "python",
   "nbconvert_exporter": "python",
   "pygments_lexer": "ipython3",
   "version": "3.11.5"
  }
 },
 "nbformat": 4,
 "nbformat_minor": 5
}
